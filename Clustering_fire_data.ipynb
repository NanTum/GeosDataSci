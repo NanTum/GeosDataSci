{
  "nbformat": 4,
  "nbformat_minor": 0,
  "metadata": {
    "colab": {
      "name": "Clustering fire data.ipynb",
      "provenance": [],
      "collapsed_sections": [],
      "authorship_tag": "ABX9TyMz3pcFF+cKYndS7y9x6zAZ",
      "include_colab_link": true
    },
    "kernelspec": {
      "name": "python3",
      "display_name": "Python 3"
    }
  },
  "cells": [
    {
      "cell_type": "markdown",
      "metadata": {
        "id": "view-in-github",
        "colab_type": "text"
      },
      "source": [
        "<a href=\"https://colab.research.google.com/github/NanTum/GeosDataSci/blob/master/Clustering_fire_data.ipynb\" target=\"_parent\"><img src=\"https://colab.research.google.com/assets/colab-badge.svg\" alt=\"Open In Colab\"/></a>"
      ]
    },
    {
      "cell_type": "markdown",
      "metadata": {
        "id": "BJwNeE2A8HSV"
      },
      "source": [
        "# Clustering fire data"
      ]
    },
    {
      "cell_type": "markdown",
      "metadata": {
        "id": "Yg0Nz77N9Za9"
      },
      "source": [
        "นายนันทพงศ์   ตันตระกูล   6270381021"
      ]
    },
    {
      "cell_type": "markdown",
      "metadata": {
        "id": "SwN-fbrJ-USz"
      },
      "source": [
        "## เพิ่มข้อมูล"
      ]
    },
    {
      "cell_type": "code",
      "metadata": {
        "id": "qZpxVAYryZmh"
      },
      "source": [
        "import pandas as pd\n",
        "from sklearn.datasets import make_blobs\n",
        "import numpy as np\n",
        "import matplotlib.pyplot as plt\n",
        "from sklearn.cluster import KMeans\n",
        "from sklearn.cluster import DBSCAN"
      ],
      "execution_count": 1,
      "outputs": []
    },
    {
      "cell_type": "code",
      "metadata": {
        "id": "0WSPANBH0DG9"
      },
      "source": [
        "firedata=pd.read_excel('https://github.com/NanTum/GeosDataSci/raw/master/Fire_Data.15240.1598195125.4438.xlsx')"
      ],
      "execution_count": 3,
      "outputs": []
    },
    {
      "cell_type": "code",
      "metadata": {
        "id": "2XIoFrWf0jLY",
        "outputId": "32580f5f-8e29-41bd-e7ff-a06fd2612742",
        "colab": {
          "base_uri": "https://localhost:8080/",
          "height": 399
        }
      },
      "source": [
        "firedata"
      ],
      "execution_count": 4,
      "outputs": [
        {
          "output_type": "execute_result",
          "data": {
            "text/html": [
              "<div>\n",
              "<style scoped>\n",
              "    .dataframe tbody tr th:only-of-type {\n",
              "        vertical-align: middle;\n",
              "    }\n",
              "\n",
              "    .dataframe tbody tr th {\n",
              "        vertical-align: top;\n",
              "    }\n",
              "\n",
              "    .dataframe thead th {\n",
              "        text-align: right;\n",
              "    }\n",
              "</style>\n",
              "<table border=\"1\" class=\"dataframe\">\n",
              "  <thead>\n",
              "    <tr style=\"text-align: right;\">\n",
              "      <th></th>\n",
              "      <th>OBJECTID</th>\n",
              "      <th>LATITUDE</th>\n",
              "      <th>LONGITUDE</th>\n",
              "      <th>BRIGHT_TI4</th>\n",
              "      <th>SCAN</th>\n",
              "      <th>TRACK</th>\n",
              "      <th>ACQ_DATE</th>\n",
              "      <th>ACQ_TIME</th>\n",
              "      <th>SATELLITE</th>\n",
              "      <th>INSTRUMENT</th>\n",
              "      <th>CONFIDENCE</th>\n",
              "      <th>VERSION</th>\n",
              "      <th>BRIGHT_TI5</th>\n",
              "      <th>FRP</th>\n",
              "      <th>TYPE</th>\n",
              "    </tr>\n",
              "  </thead>\n",
              "  <tbody>\n",
              "    <tr>\n",
              "      <th>0</th>\n",
              "      <td>1</td>\n",
              "      <td>16.33696</td>\n",
              "      <td>98.70137</td>\n",
              "      <td>334.5</td>\n",
              "      <td>0.39</td>\n",
              "      <td>0.36</td>\n",
              "      <td>2019-12-01</td>\n",
              "      <td>635</td>\n",
              "      <td>N</td>\n",
              "      <td>VIIRS</td>\n",
              "      <td>n</td>\n",
              "      <td>1</td>\n",
              "      <td>303.4</td>\n",
              "      <td>5.8</td>\n",
              "      <td>0</td>\n",
              "    </tr>\n",
              "    <tr>\n",
              "      <th>1</th>\n",
              "      <td>2</td>\n",
              "      <td>16.48906</td>\n",
              "      <td>98.73961</td>\n",
              "      <td>343.2</td>\n",
              "      <td>0.39</td>\n",
              "      <td>0.36</td>\n",
              "      <td>2019-12-01</td>\n",
              "      <td>635</td>\n",
              "      <td>N</td>\n",
              "      <td>VIIRS</td>\n",
              "      <td>n</td>\n",
              "      <td>1</td>\n",
              "      <td>306.3</td>\n",
              "      <td>6.4</td>\n",
              "      <td>0</td>\n",
              "    </tr>\n",
              "    <tr>\n",
              "      <th>2</th>\n",
              "      <td>3</td>\n",
              "      <td>16.93571</td>\n",
              "      <td>99.06874</td>\n",
              "      <td>339.4</td>\n",
              "      <td>0.39</td>\n",
              "      <td>0.36</td>\n",
              "      <td>2019-12-01</td>\n",
              "      <td>635</td>\n",
              "      <td>N</td>\n",
              "      <td>VIIRS</td>\n",
              "      <td>n</td>\n",
              "      <td>1</td>\n",
              "      <td>305.0</td>\n",
              "      <td>3.8</td>\n",
              "      <td>0</td>\n",
              "    </tr>\n",
              "    <tr>\n",
              "      <th>3</th>\n",
              "      <td>4</td>\n",
              "      <td>16.54092</td>\n",
              "      <td>98.59869</td>\n",
              "      <td>343.2</td>\n",
              "      <td>0.39</td>\n",
              "      <td>0.36</td>\n",
              "      <td>2019-12-01</td>\n",
              "      <td>635</td>\n",
              "      <td>N</td>\n",
              "      <td>VIIRS</td>\n",
              "      <td>n</td>\n",
              "      <td>1</td>\n",
              "      <td>306.0</td>\n",
              "      <td>4.6</td>\n",
              "      <td>0</td>\n",
              "    </tr>\n",
              "    <tr>\n",
              "      <th>4</th>\n",
              "      <td>5</td>\n",
              "      <td>16.87473</td>\n",
              "      <td>98.63222</td>\n",
              "      <td>331.1</td>\n",
              "      <td>0.39</td>\n",
              "      <td>0.36</td>\n",
              "      <td>2019-12-01</td>\n",
              "      <td>635</td>\n",
              "      <td>N</td>\n",
              "      <td>VIIRS</td>\n",
              "      <td>n</td>\n",
              "      <td>1</td>\n",
              "      <td>303.9</td>\n",
              "      <td>3.1</td>\n",
              "      <td>0</td>\n",
              "    </tr>\n",
              "    <tr>\n",
              "      <th>...</th>\n",
              "      <td>...</td>\n",
              "      <td>...</td>\n",
              "      <td>...</td>\n",
              "      <td>...</td>\n",
              "      <td>...</td>\n",
              "      <td>...</td>\n",
              "      <td>...</td>\n",
              "      <td>...</td>\n",
              "      <td>...</td>\n",
              "      <td>...</td>\n",
              "      <td>...</td>\n",
              "      <td>...</td>\n",
              "      <td>...</td>\n",
              "      <td>...</td>\n",
              "      <td>...</td>\n",
              "    </tr>\n",
              "    <tr>\n",
              "      <th>79229</th>\n",
              "      <td>79230</td>\n",
              "      <td>17.81812</td>\n",
              "      <td>97.74127</td>\n",
              "      <td>347.4</td>\n",
              "      <td>0.78</td>\n",
              "      <td>0.78</td>\n",
              "      <td>2020-04-04</td>\n",
              "      <td>2003</td>\n",
              "      <td>N</td>\n",
              "      <td>VIIRS</td>\n",
              "      <td>n</td>\n",
              "      <td>1</td>\n",
              "      <td>294.4</td>\n",
              "      <td>7.2</td>\n",
              "      <td>0</td>\n",
              "    </tr>\n",
              "    <tr>\n",
              "      <th>79230</th>\n",
              "      <td>79231</td>\n",
              "      <td>17.77545</td>\n",
              "      <td>97.85637</td>\n",
              "      <td>306.5</td>\n",
              "      <td>0.79</td>\n",
              "      <td>0.78</td>\n",
              "      <td>2020-04-04</td>\n",
              "      <td>2003</td>\n",
              "      <td>N</td>\n",
              "      <td>VIIRS</td>\n",
              "      <td>n</td>\n",
              "      <td>1</td>\n",
              "      <td>293.7</td>\n",
              "      <td>2.9</td>\n",
              "      <td>0</td>\n",
              "    </tr>\n",
              "    <tr>\n",
              "      <th>79231</th>\n",
              "      <td>79232</td>\n",
              "      <td>17.76847</td>\n",
              "      <td>97.79116</td>\n",
              "      <td>305.7</td>\n",
              "      <td>0.79</td>\n",
              "      <td>0.78</td>\n",
              "      <td>2020-04-04</td>\n",
              "      <td>2003</td>\n",
              "      <td>N</td>\n",
              "      <td>VIIRS</td>\n",
              "      <td>n</td>\n",
              "      <td>1</td>\n",
              "      <td>293.7</td>\n",
              "      <td>2.2</td>\n",
              "      <td>0</td>\n",
              "    </tr>\n",
              "    <tr>\n",
              "      <th>79232</th>\n",
              "      <td>79233</td>\n",
              "      <td>17.77518</td>\n",
              "      <td>97.82606</td>\n",
              "      <td>306.1</td>\n",
              "      <td>0.79</td>\n",
              "      <td>0.78</td>\n",
              "      <td>2020-04-04</td>\n",
              "      <td>2003</td>\n",
              "      <td>N</td>\n",
              "      <td>VIIRS</td>\n",
              "      <td>n</td>\n",
              "      <td>1</td>\n",
              "      <td>292.7</td>\n",
              "      <td>2.9</td>\n",
              "      <td>0</td>\n",
              "    </tr>\n",
              "    <tr>\n",
              "      <th>79233</th>\n",
              "      <td>79234</td>\n",
              "      <td>18.46766</td>\n",
              "      <td>97.94600</td>\n",
              "      <td>301.3</td>\n",
              "      <td>0.78</td>\n",
              "      <td>0.78</td>\n",
              "      <td>2020-04-04</td>\n",
              "      <td>2003</td>\n",
              "      <td>N</td>\n",
              "      <td>VIIRS</td>\n",
              "      <td>n</td>\n",
              "      <td>1</td>\n",
              "      <td>290.9</td>\n",
              "      <td>1.0</td>\n",
              "      <td>0</td>\n",
              "    </tr>\n",
              "  </tbody>\n",
              "</table>\n",
              "<p>79234 rows × 15 columns</p>\n",
              "</div>"
            ],
            "text/plain": [
              "       OBJECTID  LATITUDE  LONGITUDE  ...  BRIGHT_TI5  FRP  TYPE\n",
              "0             1  16.33696   98.70137  ...       303.4  5.8     0\n",
              "1             2  16.48906   98.73961  ...       306.3  6.4     0\n",
              "2             3  16.93571   99.06874  ...       305.0  3.8     0\n",
              "3             4  16.54092   98.59869  ...       306.0  4.6     0\n",
              "4             5  16.87473   98.63222  ...       303.9  3.1     0\n",
              "...         ...       ...        ...  ...         ...  ...   ...\n",
              "79229     79230  17.81812   97.74127  ...       294.4  7.2     0\n",
              "79230     79231  17.77545   97.85637  ...       293.7  2.9     0\n",
              "79231     79232  17.76847   97.79116  ...       293.7  2.2     0\n",
              "79232     79233  17.77518   97.82606  ...       292.7  2.9     0\n",
              "79233     79234  18.46766   97.94600  ...       290.9  1.0     0\n",
              "\n",
              "[79234 rows x 15 columns]"
            ]
          },
          "metadata": {
            "tags": []
          },
          "execution_count": 4
        }
      ]
    },
    {
      "cell_type": "markdown",
      "metadata": {
        "id": "nudglgz0-fpt"
      },
      "source": [
        "### จัดการข้อมูล"
      ]
    },
    {
      "cell_type": "code",
      "metadata": {
        "id": "jE9aoPMz098U"
      },
      "source": [
        "firedata.ACQ_TIME= firedata.ACQ_TIME.astype(str)\n",
        "firedata.ACQ_DATE= firedata.ACQ_DATE.astype(str)\n",
        "df = pd.DataFrame({'year': firedata.ACQ_DATE.str[0:4],\n",
        "                   'month': firedata.ACQ_DATE.str[5:7],\n",
        "                   'day': firedata.ACQ_DATE.str[8:10],\n",
        "                   'hour': firedata.ACQ_TIME.str[:-2],\n",
        "                   'minute': firedata.ACQ_TIME.str[-2:]})\n",
        "firedata['DateTime']=pd.to_datetime(df)\n",
        "firedata = firedata[['LATITUDE','LONGITUDE','DateTime']]"
      ],
      "execution_count": 5,
      "outputs": []
    },
    {
      "cell_type": "code",
      "metadata": {
        "id": "_sgwvV-u1D1k",
        "outputId": "3c21a3c0-8aab-449a-ca45-289f99357faa",
        "colab": {
          "base_uri": "https://localhost:8080/",
          "height": 399
        }
      },
      "source": [
        "firedata"
      ],
      "execution_count": 6,
      "outputs": [
        {
          "output_type": "execute_result",
          "data": {
            "text/html": [
              "<div>\n",
              "<style scoped>\n",
              "    .dataframe tbody tr th:only-of-type {\n",
              "        vertical-align: middle;\n",
              "    }\n",
              "\n",
              "    .dataframe tbody tr th {\n",
              "        vertical-align: top;\n",
              "    }\n",
              "\n",
              "    .dataframe thead th {\n",
              "        text-align: right;\n",
              "    }\n",
              "</style>\n",
              "<table border=\"1\" class=\"dataframe\">\n",
              "  <thead>\n",
              "    <tr style=\"text-align: right;\">\n",
              "      <th></th>\n",
              "      <th>LATITUDE</th>\n",
              "      <th>LONGITUDE</th>\n",
              "      <th>DateTime</th>\n",
              "    </tr>\n",
              "  </thead>\n",
              "  <tbody>\n",
              "    <tr>\n",
              "      <th>0</th>\n",
              "      <td>16.33696</td>\n",
              "      <td>98.70137</td>\n",
              "      <td>2019-12-01 06:35:00</td>\n",
              "    </tr>\n",
              "    <tr>\n",
              "      <th>1</th>\n",
              "      <td>16.48906</td>\n",
              "      <td>98.73961</td>\n",
              "      <td>2019-12-01 06:35:00</td>\n",
              "    </tr>\n",
              "    <tr>\n",
              "      <th>2</th>\n",
              "      <td>16.93571</td>\n",
              "      <td>99.06874</td>\n",
              "      <td>2019-12-01 06:35:00</td>\n",
              "    </tr>\n",
              "    <tr>\n",
              "      <th>3</th>\n",
              "      <td>16.54092</td>\n",
              "      <td>98.59869</td>\n",
              "      <td>2019-12-01 06:35:00</td>\n",
              "    </tr>\n",
              "    <tr>\n",
              "      <th>4</th>\n",
              "      <td>16.87473</td>\n",
              "      <td>98.63222</td>\n",
              "      <td>2019-12-01 06:35:00</td>\n",
              "    </tr>\n",
              "    <tr>\n",
              "      <th>...</th>\n",
              "      <td>...</td>\n",
              "      <td>...</td>\n",
              "      <td>...</td>\n",
              "    </tr>\n",
              "    <tr>\n",
              "      <th>79229</th>\n",
              "      <td>17.81812</td>\n",
              "      <td>97.74127</td>\n",
              "      <td>2020-04-04 20:03:00</td>\n",
              "    </tr>\n",
              "    <tr>\n",
              "      <th>79230</th>\n",
              "      <td>17.77545</td>\n",
              "      <td>97.85637</td>\n",
              "      <td>2020-04-04 20:03:00</td>\n",
              "    </tr>\n",
              "    <tr>\n",
              "      <th>79231</th>\n",
              "      <td>17.76847</td>\n",
              "      <td>97.79116</td>\n",
              "      <td>2020-04-04 20:03:00</td>\n",
              "    </tr>\n",
              "    <tr>\n",
              "      <th>79232</th>\n",
              "      <td>17.77518</td>\n",
              "      <td>97.82606</td>\n",
              "      <td>2020-04-04 20:03:00</td>\n",
              "    </tr>\n",
              "    <tr>\n",
              "      <th>79233</th>\n",
              "      <td>18.46766</td>\n",
              "      <td>97.94600</td>\n",
              "      <td>2020-04-04 20:03:00</td>\n",
              "    </tr>\n",
              "  </tbody>\n",
              "</table>\n",
              "<p>79234 rows × 3 columns</p>\n",
              "</div>"
            ],
            "text/plain": [
              "       LATITUDE  LONGITUDE            DateTime\n",
              "0      16.33696   98.70137 2019-12-01 06:35:00\n",
              "1      16.48906   98.73961 2019-12-01 06:35:00\n",
              "2      16.93571   99.06874 2019-12-01 06:35:00\n",
              "3      16.54092   98.59869 2019-12-01 06:35:00\n",
              "4      16.87473   98.63222 2019-12-01 06:35:00\n",
              "...         ...        ...                 ...\n",
              "79229  17.81812   97.74127 2020-04-04 20:03:00\n",
              "79230  17.77545   97.85637 2020-04-04 20:03:00\n",
              "79231  17.76847   97.79116 2020-04-04 20:03:00\n",
              "79232  17.77518   97.82606 2020-04-04 20:03:00\n",
              "79233  18.46766   97.94600 2020-04-04 20:03:00\n",
              "\n",
              "[79234 rows x 3 columns]"
            ]
          },
          "metadata": {
            "tags": []
          },
          "execution_count": 6
        }
      ]
    },
    {
      "cell_type": "code",
      "metadata": {
        "id": "ZYOqbXrC7Bvu",
        "outputId": "f8ca5474-ad48-42e8-f984-219855259ff0",
        "colab": {
          "base_uri": "https://localhost:8080/"
        }
      },
      "source": [
        "firedata['DateTime'] = pd.to_numeric(firedata.DateTime)\n",
        "r_dt = max(firedata.DateTime)-min(firedata.DateTime)\n",
        "r_lat = max(firedata.LATITUDE)-min(firedata.LATITUDE)\n",
        "r_lon = max(firedata.LONGITUDE)-min(firedata.LONGITUDE)\n",
        "firedata['DateTime'] = (firedata.DateTime-min(firedata.DateTime))*max(r_lat,r_lon)/r_dt"
      ],
      "execution_count": 8,
      "outputs": [
        {
          "output_type": "stream",
          "text": [
            "/usr/local/lib/python3.6/dist-packages/ipykernel_launcher.py:1: SettingWithCopyWarning: \n",
            "A value is trying to be set on a copy of a slice from a DataFrame.\n",
            "Try using .loc[row_indexer,col_indexer] = value instead\n",
            "\n",
            "See the caveats in the documentation: https://pandas.pydata.org/pandas-docs/stable/user_guide/indexing.html#returning-a-view-versus-a-copy\n",
            "  \"\"\"Entry point for launching an IPython kernel.\n",
            "/usr/local/lib/python3.6/dist-packages/ipykernel_launcher.py:5: SettingWithCopyWarning: \n",
            "A value is trying to be set on a copy of a slice from a DataFrame.\n",
            "Try using .loc[row_indexer,col_indexer] = value instead\n",
            "\n",
            "See the caveats in the documentation: https://pandas.pydata.org/pandas-docs/stable/user_guide/indexing.html#returning-a-view-versus-a-copy\n",
            "  \"\"\"\n"
          ],
          "name": "stderr"
        }
      ]
    },
    {
      "cell_type": "code",
      "metadata": {
        "id": "FVBAc7AA5CmT",
        "outputId": "c5349d85-bfe9-44bf-bbd8-b74af55c5dc0",
        "colab": {
          "base_uri": "https://localhost:8080/",
          "height": 399
        }
      },
      "source": [
        "firedata"
      ],
      "execution_count": 9,
      "outputs": [
        {
          "output_type": "execute_result",
          "data": {
            "text/html": [
              "<div>\n",
              "<style scoped>\n",
              "    .dataframe tbody tr th:only-of-type {\n",
              "        vertical-align: middle;\n",
              "    }\n",
              "\n",
              "    .dataframe tbody tr th {\n",
              "        vertical-align: top;\n",
              "    }\n",
              "\n",
              "    .dataframe thead th {\n",
              "        text-align: right;\n",
              "    }\n",
              "</style>\n",
              "<table border=\"1\" class=\"dataframe\">\n",
              "  <thead>\n",
              "    <tr style=\"text-align: right;\">\n",
              "      <th></th>\n",
              "      <th>LATITUDE</th>\n",
              "      <th>LONGITUDE</th>\n",
              "      <th>DateTime</th>\n",
              "    </tr>\n",
              "  </thead>\n",
              "  <tbody>\n",
              "    <tr>\n",
              "      <th>0</th>\n",
              "      <td>16.33696</td>\n",
              "      <td>98.70137</td>\n",
              "      <td>0.00000</td>\n",
              "    </tr>\n",
              "    <tr>\n",
              "      <th>1</th>\n",
              "      <td>16.48906</td>\n",
              "      <td>98.73961</td>\n",
              "      <td>0.00000</td>\n",
              "    </tr>\n",
              "    <tr>\n",
              "      <th>2</th>\n",
              "      <td>16.93571</td>\n",
              "      <td>99.06874</td>\n",
              "      <td>0.00000</td>\n",
              "    </tr>\n",
              "    <tr>\n",
              "      <th>3</th>\n",
              "      <td>16.54092</td>\n",
              "      <td>98.59869</td>\n",
              "      <td>0.00000</td>\n",
              "    </tr>\n",
              "    <tr>\n",
              "      <th>4</th>\n",
              "      <td>16.87473</td>\n",
              "      <td>98.63222</td>\n",
              "      <td>0.00000</td>\n",
              "    </tr>\n",
              "    <tr>\n",
              "      <th>...</th>\n",
              "      <td>...</td>\n",
              "      <td>...</td>\n",
              "      <td>...</td>\n",
              "    </tr>\n",
              "    <tr>\n",
              "      <th>79229</th>\n",
              "      <td>17.81812</td>\n",
              "      <td>97.74127</td>\n",
              "      <td>5.24745</td>\n",
              "    </tr>\n",
              "    <tr>\n",
              "      <th>79230</th>\n",
              "      <td>17.77545</td>\n",
              "      <td>97.85637</td>\n",
              "      <td>5.24745</td>\n",
              "    </tr>\n",
              "    <tr>\n",
              "      <th>79231</th>\n",
              "      <td>17.76847</td>\n",
              "      <td>97.79116</td>\n",
              "      <td>5.24745</td>\n",
              "    </tr>\n",
              "    <tr>\n",
              "      <th>79232</th>\n",
              "      <td>17.77518</td>\n",
              "      <td>97.82606</td>\n",
              "      <td>5.24745</td>\n",
              "    </tr>\n",
              "    <tr>\n",
              "      <th>79233</th>\n",
              "      <td>18.46766</td>\n",
              "      <td>97.94600</td>\n",
              "      <td>5.24745</td>\n",
              "    </tr>\n",
              "  </tbody>\n",
              "</table>\n",
              "<p>79234 rows × 3 columns</p>\n",
              "</div>"
            ],
            "text/plain": [
              "       LATITUDE  LONGITUDE  DateTime\n",
              "0      16.33696   98.70137   0.00000\n",
              "1      16.48906   98.73961   0.00000\n",
              "2      16.93571   99.06874   0.00000\n",
              "3      16.54092   98.59869   0.00000\n",
              "4      16.87473   98.63222   0.00000\n",
              "...         ...        ...       ...\n",
              "79229  17.81812   97.74127   5.24745\n",
              "79230  17.77545   97.85637   5.24745\n",
              "79231  17.76847   97.79116   5.24745\n",
              "79232  17.77518   97.82606   5.24745\n",
              "79233  18.46766   97.94600   5.24745\n",
              "\n",
              "[79234 rows x 3 columns]"
            ]
          },
          "metadata": {
            "tags": []
          },
          "execution_count": 9
        }
      ]
    },
    {
      "cell_type": "markdown",
      "metadata": {
        "id": "qn0EF7xT_Ff0"
      },
      "source": [
        "## แบ่งข้อมูลโดยใช้ K-Means Clustering"
      ]
    },
    {
      "cell_type": "code",
      "metadata": {
        "id": "CRAOnHesMubV"
      },
      "source": [
        "points=firedata"
      ],
      "execution_count": 53,
      "outputs": []
    },
    {
      "cell_type": "markdown",
      "metadata": {
        "id": "ynmMTYTiApzX"
      },
      "source": [
        "### ทดสอบห่าค่า K ที่เหมาะสม "
      ]
    },
    {
      "cell_type": "code",
      "metadata": {
        "id": "sYKqpry0X75J"
      },
      "source": [
        "from sklearn.cluster import KMeans\n",
        "from sklearn.metrics import silhouette_samples, silhouette_score\n",
        "ans=[]\n",
        "for i in range(19):\n",
        "    n_clusters=i+2\n",
        "    kmeans = KMeans(n_clusters=n_clusters)\n",
        "    kmeans.fit(points)\n",
        "    cluster_labels = kmeans.labels_\n",
        "    x=silhouette_avg = silhouette_score(points, cluster_labels)\n",
        "    ans.append(x)"
      ],
      "execution_count": 68,
      "outputs": []
    },
    {
      "cell_type": "markdown",
      "metadata": {
        "id": "qTzNMGitAGeb"
      },
      "source": [
        "คำนวณ silhoulette score ของค่า K จาก 2 ถึง 20 เพื่อหาจำนวณกลุ่มที่เหมาะสม"
      ]
    },
    {
      "cell_type": "code",
      "metadata": {
        "id": "Lv1zMHBSmQ5B",
        "outputId": "aa4927d8-9f1b-4e3e-9ab4-83abe3b788bf",
        "colab": {
          "base_uri": "https://localhost:8080/"
        }
      },
      "source": [
        "ans"
      ],
      "execution_count": 69,
      "outputs": [
        {
          "output_type": "execute_result",
          "data": {
            "text/plain": [
              "[0.36752376598091135,\n",
              " 0.33953812252822035,\n",
              " 0.3397497852900635,\n",
              " 0.33625625622978095,\n",
              " 0.3161728119888272,\n",
              " 0.32169001388381935,\n",
              " 0.3347828175976702,\n",
              " 0.3216744472559159,\n",
              " 0.3147706801936224,\n",
              " 0.3228586049252143,\n",
              " 0.3264516122994236,\n",
              " 0.3284767784080949,\n",
              " 0.3185818650276997,\n",
              " 0.31442981987299956,\n",
              " 0.3173945875790051,\n",
              " 0.3169427562974456,\n",
              " 0.3106187547784365,\n",
              " 0.3046939455309382,\n",
              " 0.30721135563960333]"
            ]
          },
          "metadata": {
            "tags": []
          },
          "execution_count": 69
        }
      ]
    },
    {
      "cell_type": "markdown",
      "metadata": {
        "id": "kHSllMdxAbjY"
      },
      "source": [
        "จะเห็นว่าค่า K ที่เหมาะสมที่สุดสำหรับวิธีนี้คือ 2"
      ]
    },
    {
      "cell_type": "markdown",
      "metadata": {
        "id": "ommuvWOcA3EK"
      },
      "source": [
        "### แบ่งกลุ่ม คำนวณค่า silhoulette score และพลอตกราฟแสดง silhouette coefficient"
      ]
    },
    {
      "cell_type": "code",
      "metadata": {
        "id": "29Fvs593L83Y"
      },
      "source": [
        "from sklearn.cluster import KMeans\n",
        "n_clusters=2\n",
        "kmeans = KMeans(n_clusters=n_clusters)\n",
        "kmeans.fit(points)\n",
        "cluster_labels = kmeans.labels_\n",
        "SS = kmeans.inertia_ #Sum of squared distances of samples to their closest cluster center."
      ],
      "execution_count": 70,
      "outputs": []
    },
    {
      "cell_type": "code",
      "metadata": {
        "id": "mcDq3NfLMFeW",
        "outputId": "0737a71b-7c59-4a6d-a29f-d222eb3c81d8",
        "colab": {
          "base_uri": "https://localhost:8080/"
        }
      },
      "source": [
        "SS"
      ],
      "execution_count": 71,
      "outputs": [
        {
          "output_type": "execute_result",
          "data": {
            "text/plain": [
              "164573.32918945202"
            ]
          },
          "metadata": {
            "tags": []
          },
          "execution_count": 71
        }
      ]
    },
    {
      "cell_type": "code",
      "metadata": {
        "id": "ptvC_TVRMHzG"
      },
      "source": [
        "from sklearn.metrics import silhouette_samples, silhouette_score\n",
        "silhouette_avg = silhouette_score(points, cluster_labels)"
      ],
      "execution_count": 72,
      "outputs": []
    },
    {
      "cell_type": "code",
      "metadata": {
        "id": "C8q7JR-ANJeg",
        "outputId": "4f4d058b-2b9a-4333-e753-a4f1855201da",
        "colab": {
          "base_uri": "https://localhost:8080/"
        }
      },
      "source": [
        "silhouette_avg"
      ],
      "execution_count": 73,
      "outputs": [
        {
          "output_type": "execute_result",
          "data": {
            "text/plain": [
              "0.3674663380531219"
            ]
          },
          "metadata": {
            "tags": []
          },
          "execution_count": 73
        }
      ]
    },
    {
      "cell_type": "code",
      "metadata": {
        "id": "dZh_qjNGMMSR"
      },
      "source": [
        "sample_silhouette_values = silhouette_samples(points, cluster_labels)"
      ],
      "execution_count": 74,
      "outputs": []
    },
    {
      "cell_type": "code",
      "metadata": {
        "id": "xCbzzYaWYZYp",
        "outputId": "63032c79-9387-4ced-d682-ed18b4fe8080",
        "colab": {
          "base_uri": "https://localhost:8080/",
          "height": 295
        }
      },
      "source": [
        "import matplotlib.cm as cm\n",
        "fig, ax = plt.subplots()\n",
        "y_lower = 10\n",
        "for i in range(n_clusters):\n",
        "    # Aggregate the silhouette scores for samples belonging to\n",
        "    # cluster i, and sort them\n",
        "    ith_cluster_silhouette_values = \\\n",
        "        sample_silhouette_values[cluster_labels == i]\n",
        "\n",
        "    ith_cluster_silhouette_values.sort()\n",
        "\n",
        "    size_cluster_i = ith_cluster_silhouette_values.shape[0]\n",
        "    y_upper = y_lower + size_cluster_i\n",
        "\n",
        "    color = cm.nipy_spectral(float(i) / n_clusters)\n",
        "    plt.fill_betweenx(np.arange(y_lower, y_upper),\n",
        "          0, ith_cluster_silhouette_values,\n",
        "          facecolor=color, edgecolor=color, alpha=0.7)\n",
        "\n",
        "    # Label the silhouette plots with their cluster numbers at the middle\n",
        "    plt.text(-0.05, y_lower + 0.5 * size_cluster_i, str(i))\n",
        "\n",
        "    # Compute the new y_lower for next plot\n",
        "    y_lower = y_upper + 10  # 10 for the 0 samples\n",
        "\n",
        "    ax.set_title(\"silhouette score = \" + str(silhouette_avg))\n",
        "    ax.set_xlabel(\"The silhouette coefficient values\")\n",
        "    ax.set_ylabel(\"Cluster label\")\n",
        "\n",
        "    # The vertical line for average silhouette score of all the values\n",
        "    plt.axvline(x=silhouette_avg, color=\"red\", linestyle=\"--\")\n",
        "    ax.set_yticks([])  # Clear the yaxis labels / ticks\n",
        "    ax.set_xticks([-0.1, 0, 0.2, 0.4, 0.6, 0.8, 1])"
      ],
      "execution_count": 75,
      "outputs": [
        {
          "output_type": "display_data",
          "data": {
            "image/png": "[encoded data removed]",
            "text/plain": [
              "<Figure size 432x288 with 1 Axes>"
            ]
          },
          "metadata": {
            "tags": [],
            "needs_background": "light"
          }
        }
      ]
    },
    {
      "cell_type": "markdown",
      "metadata": {
        "id": "I6haE2B0BjDn"
      },
      "source": [
        "## Plot ข้อมูลที่แบ่งกลุ่มแล้ว"
      ]
    },
    {
      "cell_type": "code",
      "metadata": {
        "id": "bbVeeDDhBiK_"
      },
      "source": [
        "from mpl_toolkits.mplot3d import Axes3D\n",
        "import matplotlib.pyplot as plt\n",
        "import matplotlib.colors as colors\n",
        "import numpy as np"
      ],
      "execution_count": 77,
      "outputs": []
    },
    {
      "cell_type": "code",
      "metadata": {
        "id": "yaKNZDkUCFKE",
        "outputId": "0420a216-07b6-42c9-ff7a-03caa712cf1b",
        "colab": {
          "base_uri": "https://localhost:8080/",
          "height": 248
        }
      },
      "source": [
        "# Axes3D.plot3D(firedata.LONGITUDE,firedata.LATITUDE,firedata.DateTime)\n",
        "fig = plt.figure()\n",
        "ax = fig.add_subplot(111, projection='3d')\n",
        "x=firedata.LONGITUDE\n",
        "y=firedata.LATITUDE\n",
        "z=firedata.DateTime\n",
        "# ax.scatter(x, y, z)\n",
        "ax.scatter(x,y,z, c=cluster_labels)\n",
        "\n",
        "ax.set_xlabel('LONGITUDE')\n",
        "ax.set_ylabel('LATITUDE')\n",
        "ax.set_zlabel('DateTime')\n",
        "\n",
        "plt.show()"
      ],
      "execution_count": 78,
      "outputs": [
        {
          "output_type": "display_data",
          "data": {
            "image/png": "[encoded data removed]",
            "text/plain": [
              "<Figure size 432x288 with 1 Axes>"
            ]
          },
          "metadata": {
            "tags": [],
            "needs_background": "light"
          }
        }
      ]
    }
  ]
}